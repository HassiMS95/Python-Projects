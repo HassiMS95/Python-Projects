{
 "cells": [
  {
   "cell_type": "code",
   "execution_count": 63,
   "metadata": {},
   "outputs": [],
   "source": [
    "import sys\n",
    "import requests\n",
    "from bs4 import BeautifulSoup"
   ]
  },
  {
   "cell_type": "code",
   "execution_count": 64,
   "metadata": {},
   "outputs": [
    {
     "name": "stdout",
     "output_type": "stream",
     "text": [
      "3.8.3 (default, Jul  2 2020, 17:30:36) [MSC v.1916 64 bit (AMD64)]\n"
     ]
    }
   ],
   "source": [
    "print(sys.version)"
   ]
  },
  {
   "cell_type": "code",
   "execution_count": 65,
   "metadata": {},
   "outputs": [],
   "source": [
    "# Task 1\n",
    "url = \"https://en.wikipedia.org/wiki/List_of_states_and_territories_of_the_United_States\"\n",
    "response = requests.get(url)\n",
    "soup = BeautifulSoup(response.text, \"html.parser\")\n",
    "table = soup.find(\"table\", class_=\"wikitable sortable plainrowheaders\")"
   ]
  },
  {
   "cell_type": "code",
   "execution_count": 66,
   "metadata": {},
   "outputs": [],
   "source": [
    "# Task 2 Part 1\n",
    "state_names = []\n",
    "header_cells = table.find_all(\"th\")\n",
    "\n",
    "for header_cell in header_cells:\n",
    "    a_tags = header_cell.find_all(\"a\")\n",
    "    for a_tag in a_tags:\n",
    "        state_names.append(a_tag.text.strip())"
   ]
  },
  {
   "cell_type": "code",
   "execution_count": 67,
   "metadata": {},
   "outputs": [
    {
     "data": {
      "text/plain": [
       "['postal abbreviation',\n",
       " '[8]',\n",
       " '[A]',\n",
       " '[10]',\n",
       " '[11]',\n",
       " '[11]',\n",
       " '[11]',\n",
       " 'Numberof Reps.',\n",
       " '[12]',\n",
       " 'Alabama',\n",
       " 'Alaska',\n",
       " 'Arizona',\n",
       " 'Arkansas',\n",
       " 'California',\n",
       " 'Colorado',\n",
       " 'Connecticut',\n",
       " 'Delaware',\n",
       " 'Florida',\n",
       " 'Georgia',\n",
       " 'Hawaii',\n",
       " 'Idaho',\n",
       " 'Illinois',\n",
       " 'Indiana',\n",
       " 'Iowa',\n",
       " 'Kansas',\n",
       " 'Kentucky',\n",
       " '[B]',\n",
       " 'Louisiana',\n",
       " 'Maine',\n",
       " 'Maryland',\n",
       " 'Massachusetts',\n",
       " '[B]',\n",
       " 'Michigan',\n",
       " 'Minnesota',\n",
       " 'Mississippi',\n",
       " 'Missouri',\n",
       " 'Montana',\n",
       " 'Nebraska',\n",
       " 'Nevada',\n",
       " 'New Hampshire',\n",
       " 'New Jersey',\n",
       " 'New Mexico',\n",
       " 'New York',\n",
       " 'North Carolina',\n",
       " 'North Dakota',\n",
       " 'Ohio',\n",
       " 'Oklahoma',\n",
       " 'Oregon',\n",
       " 'Pennsylvania',\n",
       " '[B]',\n",
       " 'Rhode Island',\n",
       " 'South Carolina',\n",
       " 'South Dakota',\n",
       " 'Tennessee',\n",
       " 'Texas',\n",
       " 'Utah',\n",
       " 'Vermont',\n",
       " 'Virginia',\n",
       " '[B]',\n",
       " 'Washington',\n",
       " 'West Virginia',\n",
       " 'Wisconsin',\n",
       " 'Wyoming']"
      ]
     },
     "execution_count": 67,
     "metadata": {},
     "output_type": "execute_result"
    }
   ],
   "source": [
    "state_names"
   ]
  },
  {
   "cell_type": "code",
   "execution_count": 68,
   "metadata": {},
   "outputs": [],
   "source": [
    "#Task 2 Part 2\n",
    "\n",
    "states = state_names[9:]\n",
    "states = [state for state in final_list if \"[B]\" not in state]"
   ]
  },
  {
   "cell_type": "code",
   "execution_count": 69,
   "metadata": {},
   "outputs": [
    {
     "name": "stdout",
     "output_type": "stream",
     "text": [
      "['Alabama', 'Alaska', 'Arizona', 'Arkansas', 'California', 'Colorado', 'Connecticut', 'Delaware', 'Florida', 'Georgia', 'Hawaii', 'Idaho', 'Illinois', 'Indiana', 'Iowa', 'Kansas', 'Kentucky', 'Louisiana', 'Maine', 'Maryland', 'Massachusetts', 'Michigan', 'Minnesota', 'Mississippi', 'Missouri', 'Montana', 'Nebraska', 'Nevada', 'New Hampshire', 'New Jersey', 'New Mexico', 'New York', 'North Carolina', 'North Dakota', 'Ohio', 'Oklahoma', 'Oregon', 'Pennsylvania', 'Rhode Island', 'South Carolina', 'South Dakota', 'Tennessee', 'Texas', 'Utah', 'Vermont', 'Virginia', 'Washington', 'West Virginia', 'Wisconsin', 'Wyoming'] 50\n"
     ]
    }
   ],
   "source": [
    "print(states, len(states))"
   ]
  },
  {
   "cell_type": "code",
   "execution_count": 82,
   "metadata": {},
   "outputs": [],
   "source": [
    "# Task 3 Part 1\n",
    "\n",
    "population_data = []\n",
    "data_cells = table.find_all(\"td\")\n",
    "\n",
    "for data_cell in data_cells:\n",
    "    div_tag = data_cell.find(\"div\")\n",
    "    if div_tag:\n",
    "        population_data.append(div_tag.text.strip())"
   ]
  },
  {
   "cell_type": "code",
   "execution_count": 83,
   "metadata": {},
   "outputs": [
    {
     "data": {
      "text/plain": [
       "['5,024,279',\n",
       " '7',\n",
       " '733,391',\n",
       " '1',\n",
       " '7,151,502',\n",
       " '9',\n",
       " '3,011,524',\n",
       " '4',\n",
       " '39,538,223',\n",
       " '52',\n",
       " '5,773,714',\n",
       " '8',\n",
       " '3,605,944',\n",
       " '5',\n",
       " '989,948',\n",
       " '1',\n",
       " '21,538,187',\n",
       " '28',\n",
       " '10,711,908',\n",
       " '14',\n",
       " '1,455,271',\n",
       " '2',\n",
       " '1,839,106',\n",
       " '2',\n",
       " '12,812,508',\n",
       " '17',\n",
       " '6,785,528',\n",
       " '9',\n",
       " '3,190,369',\n",
       " '4',\n",
       " '2,937,880',\n",
       " '4',\n",
       " '4,505,836',\n",
       " '6',\n",
       " '4,657,757',\n",
       " '6',\n",
       " '1,362,359',\n",
       " '2',\n",
       " '6,177,224',\n",
       " '8',\n",
       " '7,029,917',\n",
       " '9',\n",
       " '10,077,331',\n",
       " '13',\n",
       " '5,706,494',\n",
       " '8',\n",
       " '2,961,279',\n",
       " '4',\n",
       " '6,154,913',\n",
       " '8',\n",
       " '1,084,225',\n",
       " '2',\n",
       " '1,961,504',\n",
       " '3',\n",
       " '3,104,614',\n",
       " '4',\n",
       " '1,377,529',\n",
       " '2',\n",
       " '9,288,994',\n",
       " '12',\n",
       " '2,117,522',\n",
       " '3',\n",
       " '20,201,249',\n",
       " '26',\n",
       " '10,439,388',\n",
       " '14',\n",
       " '779,094',\n",
       " '1',\n",
       " '11,799,448',\n",
       " '15',\n",
       " '3,959,353',\n",
       " '5',\n",
       " '4,237,256',\n",
       " '6',\n",
       " '13,002,700',\n",
       " '17',\n",
       " '1,097,379',\n",
       " '2',\n",
       " '5,118,425',\n",
       " '7',\n",
       " '886,667',\n",
       " '1',\n",
       " '6,910,840',\n",
       " '9',\n",
       " '29,145,505',\n",
       " '38',\n",
       " '3,271,616',\n",
       " '4',\n",
       " '643,077',\n",
       " '1',\n",
       " '8,631,393',\n",
       " '11',\n",
       " '7,705,281',\n",
       " '10',\n",
       " '1,793,716',\n",
       " '2',\n",
       " '5,893,718',\n",
       " '8',\n",
       " '576,851',\n",
       " '1']"
      ]
     },
     "execution_count": 83,
     "metadata": {},
     "output_type": "execute_result"
    }
   ],
   "source": [
    "population_data"
   ]
  },
  {
   "cell_type": "code",
   "execution_count": 86,
   "metadata": {},
   "outputs": [],
   "source": [
    "# Task 3 Part 2\n",
    "\n",
    "population_data = [data for data in population_data if len(data) > 3]"
   ]
  },
  {
   "cell_type": "code",
   "execution_count": 88,
   "metadata": {},
   "outputs": [
    {
     "data": {
      "text/plain": [
       "['5,024,279',\n",
       " '733,391',\n",
       " '7,151,502',\n",
       " '3,011,524',\n",
       " '39,538,223',\n",
       " '5,773,714',\n",
       " '3,605,944',\n",
       " '989,948',\n",
       " '21,538,187',\n",
       " '10,711,908',\n",
       " '1,455,271',\n",
       " '1,839,106',\n",
       " '12,812,508',\n",
       " '6,785,528',\n",
       " '3,190,369',\n",
       " '2,937,880',\n",
       " '4,505,836',\n",
       " '4,657,757',\n",
       " '1,362,359',\n",
       " '6,177,224',\n",
       " '7,029,917',\n",
       " '10,077,331',\n",
       " '5,706,494',\n",
       " '2,961,279',\n",
       " '6,154,913',\n",
       " '1,084,225',\n",
       " '1,961,504',\n",
       " '3,104,614',\n",
       " '1,377,529',\n",
       " '9,288,994',\n",
       " '2,117,522',\n",
       " '20,201,249',\n",
       " '10,439,388',\n",
       " '779,094',\n",
       " '11,799,448',\n",
       " '3,959,353',\n",
       " '4,237,256',\n",
       " '13,002,700',\n",
       " '1,097,379',\n",
       " '5,118,425',\n",
       " '886,667',\n",
       " '6,910,840',\n",
       " '29,145,505',\n",
       " '3,271,616',\n",
       " '643,077',\n",
       " '8,631,393',\n",
       " '7,705,281',\n",
       " '1,793,716',\n",
       " '5,893,718',\n",
       " '576,851']"
      ]
     },
     "execution_count": 88,
     "metadata": {},
     "output_type": "execute_result"
    }
   ],
   "source": [
    "population_data"
   ]
  },
  {
   "cell_type": "code",
   "execution_count": 93,
   "metadata": {},
   "outputs": [],
   "source": [
    "# Task 4\n",
    "import pandas as pd\n",
    "df = pd.DataFrame({'State': states, 'Population': population_data})"
   ]
  },
  {
   "cell_type": "code",
   "execution_count": 94,
   "metadata": {},
   "outputs": [
    {
     "name": "stdout",
     "output_type": "stream",
     "text": [
      "             State  Population\n",
      "0          Alabama   5,024,279\n",
      "1           Alaska     733,391\n",
      "2          Arizona   7,151,502\n",
      "3         Arkansas   3,011,524\n",
      "4       California  39,538,223\n",
      "5         Colorado   5,773,714\n",
      "6      Connecticut   3,605,944\n",
      "7         Delaware     989,948\n",
      "8          Florida  21,538,187\n",
      "9          Georgia  10,711,908\n",
      "10          Hawaii   1,455,271\n",
      "11           Idaho   1,839,106\n",
      "12        Illinois  12,812,508\n",
      "13         Indiana   6,785,528\n",
      "14            Iowa   3,190,369\n",
      "15          Kansas   2,937,880\n",
      "16        Kentucky   4,505,836\n",
      "17       Louisiana   4,657,757\n",
      "18           Maine   1,362,359\n",
      "19        Maryland   6,177,224\n",
      "20   Massachusetts   7,029,917\n",
      "21        Michigan  10,077,331\n",
      "22       Minnesota   5,706,494\n",
      "23     Mississippi   2,961,279\n",
      "24        Missouri   6,154,913\n",
      "25         Montana   1,084,225\n",
      "26        Nebraska   1,961,504\n",
      "27          Nevada   3,104,614\n",
      "28   New Hampshire   1,377,529\n",
      "29      New Jersey   9,288,994\n",
      "30      New Mexico   2,117,522\n",
      "31        New York  20,201,249\n",
      "32  North Carolina  10,439,388\n",
      "33    North Dakota     779,094\n",
      "34            Ohio  11,799,448\n",
      "35        Oklahoma   3,959,353\n",
      "36          Oregon   4,237,256\n",
      "37    Pennsylvania  13,002,700\n",
      "38    Rhode Island   1,097,379\n",
      "39  South Carolina   5,118,425\n",
      "40    South Dakota     886,667\n",
      "41       Tennessee   6,910,840\n",
      "42           Texas  29,145,505\n",
      "43            Utah   3,271,616\n",
      "44         Vermont     643,077\n",
      "45        Virginia   8,631,393\n",
      "46      Washington   7,705,281\n",
      "47   West Virginia   1,793,716\n",
      "48       Wisconsin   5,893,718\n",
      "49         Wyoming     576,851\n"
     ]
    }
   ],
   "source": [
    "print(df)"
   ]
  },
  {
   "cell_type": "code",
   "execution_count": 95,
   "metadata": {},
   "outputs": [],
   "source": [
    "df.to_csv('us_info.csv')"
   ]
  }
 ],
 "metadata": {
  "kernelspec": {
   "display_name": "Python 3 (ipykernel)",
   "language": "python",
   "name": "python3"
  },
  "language_info": {
   "codemirror_mode": {
    "name": "ipython",
    "version": 3
   },
   "file_extension": ".py",
   "mimetype": "text/x-python",
   "name": "python",
   "nbconvert_exporter": "python",
   "pygments_lexer": "ipython3",
   "version": "3.11.7"
  }
 },
 "nbformat": 4,
 "nbformat_minor": 4
}
